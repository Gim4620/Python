{
  "nbformat": 4,
  "nbformat_minor": 0,
  "metadata": {
    "colab": {
      "provenance": [],
      "authorship_tag": "ABX9TyPf7Ynm7t0B790V0RD5uVe3",
      "include_colab_link": true
    },
    "kernelspec": {
      "name": "python3",
      "display_name": "Python 3"
    },
    "language_info": {
      "name": "python"
    }
  },
  "cells": [
    {
      "cell_type": "markdown",
      "metadata": {
        "id": "view-in-github",
        "colab_type": "text"
      },
      "source": [
        "<a href=\"https://colab.research.google.com/github/Gim4620/Python/blob/main/%EC%9B%B9_%ED%81%AC%EB%A1%A4%EB%A7%81_%EC%97%B0%EC%8A%B5%EC%9E%A5.ipynb\" target=\"_parent\"><img src=\"https://colab.research.google.com/assets/colab-badge.svg\" alt=\"Open In Colab\"/></a>"
      ]
    },
    {
      "cell_type": "markdown",
      "source": [
        "# 20240318"
      ],
      "metadata": {
        "id": "PwiW7kqHS9jL"
      }
    },
    {
      "cell_type": "code",
      "source": [
        "import requests\n",
        "from bs4 import BeautifulSoup"
      ],
      "metadata": {
        "id": "d-23Tm-BS-pW"
      },
      "execution_count": null,
      "outputs": []
    },
    {
      "cell_type": "code",
      "source": [
        "url = 'https://search.daum.net/search?w=news&nil_search=btn&DA=NTB&enc=utf8&cluster=y&cluster_page=1&q=%EC%82%BC%EC%84%B1%EC%A0%84%EC%9E%90'\n",
        "\n",
        "resp = requests.get(url)\n",
        "resp"
      ],
      "metadata": {
        "colab": {
          "base_uri": "https://localhost:8080/"
        },
        "id": "_IMIHIdwTDwP",
        "outputId": "72a93924-e2b5-4f8f-95e7-de525fd921d8"
      },
      "execution_count": null,
      "outputs": [
        {
          "output_type": "execute_result",
          "data": {
            "text/plain": [
              "<Response [200]>"
            ]
          },
          "metadata": {},
          "execution_count": 6
        }
      ]
    },
    {
      "cell_type": "code",
      "source": [
        "soup = BeautifulSoup(resp.content, 'lxml')"
      ],
      "metadata": {
        "id": "ys7GIKFoTOl_"
      },
      "execution_count": null,
      "outputs": []
    },
    {
      "cell_type": "code",
      "source": [
        "a_tags = soup.select('div.item-title a')\n",
        "len(a_tags)"
      ],
      "metadata": {
        "colab": {
          "base_uri": "https://localhost:8080/"
        },
        "id": "td6PbTtVT8T0",
        "outputId": "1d1c6ba4-1df0-4c6b-978f-e8fe1fd53644"
      },
      "execution_count": null,
      "outputs": [
        {
          "output_type": "execute_result",
          "data": {
            "text/plain": [
              "10"
            ]
          },
          "metadata": {},
          "execution_count": 43
        }
      ]
    },
    {
      "cell_type": "code",
      "source": [
        "title, url = [], []\n",
        "\n",
        "for i in range(10):\n",
        "    title.append(a_tags[i].text)\n",
        "    url.append(a_tags[i]['href'])\n",
        "\n",
        "print(len(title), len(url))"
      ],
      "metadata": {
        "colab": {
          "base_uri": "https://localhost:8080/"
        },
        "id": "hSrAxTstUSbm",
        "outputId": "93afad14-8ca9-4415-f1b1-0ed02e3a2c89"
      },
      "execution_count": null,
      "outputs": [
        {
          "output_type": "stream",
          "name": "stdout",
          "text": [
            "10 10\n"
          ]
        }
      ]
    },
    {
      "cell_type": "code",
      "source": [
        "new_info = {'제목':title, 'URL': url}\n",
        "new_info"
      ],
      "metadata": {
        "colab": {
          "base_uri": "https://localhost:8080/"
        },
        "id": "G5iYpOkuVIfN",
        "outputId": "5139cca4-f4de-4609-9898-7cbec11e1cd8"
      },
      "execution_count": null,
      "outputs": [
        {
          "output_type": "execute_result",
          "data": {
            "text/plain": [
              "{'제목': [\" 증권가 '10만전자' 외치는데…삼성전자 주가 요지부동 까닭은 \",\n",
              "  \" [집중진단] 삼성전자 8조 보조금에도 주가 '잠잠'…7만 전자 탈출은 언제? \",\n",
              "  ' 삼성전자, 임금 교섭 결렬…노조 쟁의 돌입 ',\n",
              "  ' \"삼성전자 TV도 알리에서\"…계속되는 中이머커스 \\'K베뉴\\' 공습 ',\n",
              "  ' 亞太광고제 휩쓴 제일기획... 삼성전자와 총 6개 본상 수상 ',\n",
              "  \" 삼성전자, 'V11' 낸드 개발 본격화…첫 500단 돌파 시도 \",\n",
              "  ' “4분기 어닝쇼크 잊고 싶다”…삼성전자, 이번엔 실적도 주가도 오를까 ',\n",
              "  ' \"별 차이 안나네\"…LG전자 직원 연봉, 삼성전자와 1천만원 차이 ',\n",
              "  \" [포토] 삼성전자 '마리나 베이 샌즈'에 TV 공급 \",\n",
              "  ' 삼성전자 노조, 쟁의 찬반 투표 돌입 '],\n",
              " 'URL': ['http://v.daum.net/v/20240318110013018',\n",
              "  'http://v.daum.net/v/20240318154017458',\n",
              "  'http://v.daum.net/v/20240318181213659',\n",
              "  'http://v.daum.net/v/20240318163923927',\n",
              "  'http://v.daum.net/v/20240318192834521',\n",
              "  'http://v.daum.net/v/20240318135610275',\n",
              "  'http://v.daum.net/v/20240318150900802',\n",
              "  'http://v.daum.net/v/20240318182100914',\n",
              "  'http://v.daum.net/v/20240318173310387',\n",
              "  'http://v.daum.net/v/20240318125414167']}"
            ]
          },
          "metadata": {},
          "execution_count": 20
        }
      ]
    },
    {
      "cell_type": "markdown",
      "source": [
        "다음에서 삼성전자 연관 검색어 가져오기"
      ],
      "metadata": {
        "id": "Mws4bD0rWgW2"
      }
    },
    {
      "cell_type": "code",
      "source": [
        "import requests\n",
        "from bs4 import BeautifulSoup"
      ],
      "metadata": {
        "id": "71dB9CSiV5YJ"
      },
      "execution_count": null,
      "outputs": []
    },
    {
      "cell_type": "code",
      "source": [
        "url = 'https://search.daum.net/search?w=news&nil_search=btn&DA=NTB&enc=utf8&cluster=y&cluster_page=1&q=%EC%82%BC%EC%84%B1%EC%A0%84%EC%9E%90'\n",
        "\n",
        "resp = requests.get(url)\n",
        "resp"
      ],
      "metadata": {
        "colab": {
          "base_uri": "https://localhost:8080/"
        },
        "id": "Z0JgPdG1XWPJ",
        "outputId": "b73d3c92-909f-4cb1-de34-a9cd5447043b"
      },
      "execution_count": null,
      "outputs": [
        {
          "output_type": "execute_result",
          "data": {
            "text/plain": [
              "<Response [200]>"
            ]
          },
          "metadata": {},
          "execution_count": 22
        }
      ]
    },
    {
      "cell_type": "code",
      "source": [
        "soup = BeautifulSoup(resp.content, 'lxml')"
      ],
      "metadata": {
        "id": "Z_Gr0q9AXU3w"
      },
      "execution_count": null,
      "outputs": []
    },
    {
      "cell_type": "code",
      "source": [
        "a_tags = soup.select('div#netizen_lists_top a')\n",
        "len(a_tags)"
      ],
      "metadata": {
        "colab": {
          "base_uri": "https://localhost:8080/"
        },
        "id": "KeiOFolAXkJZ",
        "outputId": "2ef155c3-4e45-4d3c-af1d-126c408c9881"
      },
      "execution_count": null,
      "outputs": [
        {
          "output_type": "execute_result",
          "data": {
            "text/plain": [
              "20"
            ]
          },
          "metadata": {},
          "execution_count": 26
        }
      ]
    },
    {
      "cell_type": "code",
      "source": [
        "related_keyword = []\n",
        "\n",
        "for i in range(20):\n",
        "    related_keyword.append(a_tags[i].text)\n",
        "\n",
        "related_keyword"
      ],
      "metadata": {
        "colab": {
          "base_uri": "https://localhost:8080/"
        },
        "id": "ORkFTGcVX5CX",
        "outputId": "bee51c20-bf23-424b-9381-e4dfcbf93f73"
      },
      "execution_count": null,
      "outputs": [
        {
          "output_type": "execute_result",
          "data": {
            "text/plain": [
              "['삼성전자 우',\n",
              " '삼성전기',\n",
              " 'sk 하이닉스',\n",
              " '삼성전자 주식',\n",
              " '엘지전자',\n",
              " '삼성전자 배당금',\n",
              " '삼성전자 주가',\n",
              " '삼성전자 우선주',\n",
              " '삼성전자 서비스센터',\n",
              " '카카오',\n",
              " '삼성물산',\n",
              " '삼성 sdi',\n",
              " '삼성전자 몰',\n",
              " '삼성전자 tv',\n",
              " '삼성전자 as',\n",
              " '삼지전자',\n",
              " '삼성전자 실적',\n",
              " '삼성전자 파운드리',\n",
              " '삼성전자 대리점',\n",
              " '삼성전자 반도체']"
            ]
          },
          "metadata": {},
          "execution_count": 28
        }
      ]
    },
    {
      "cell_type": "markdown",
      "source": [
        "1. 삼성전자 뉴스 기사제목 100개 가져오기"
      ],
      "metadata": {
        "id": "hSJJRuxXZakl"
      }
    },
    {
      "cell_type": "code",
      "source": [
        "import requests\n",
        "from bs4 import BeautifulSoup"
      ],
      "metadata": {
        "id": "kC_9eRH9YqTD"
      },
      "execution_count": null,
      "outputs": []
    },
    {
      "cell_type": "code",
      "source": [
        "url = 'https://search.daum.net/search?w=news&nil_search=btn&DA=PGD&enc=utf8&cluster=y&cluster_page=1&q=%EC%82%BC%EC%84%B1%EC%A0%84%EC%9E%90&p='\n",
        "\n",
        "title = []\n",
        "\n",
        "for i in range(1, 11):\n",
        "    #i +=1\n",
        "    resp = requests.get(url+'i')\n",
        "\n",
        "    soup = BeautifulSoup(resp.content, 'lxml')\n",
        "    tit_tags = soup.select('div.item-title')\n",
        "\n",
        "    for j in range(10):\n",
        "        title.append(tit_tags[j].text)\n",
        "\n",
        "len(title)"
      ],
      "metadata": {
        "colab": {
          "base_uri": "https://localhost:8080/"
        },
        "id": "MYmcYOmqZlhC",
        "outputId": "bb81ef8a-5960-46d5-d90b-036dd36de60f"
      },
      "execution_count": null,
      "outputs": [
        {
          "output_type": "execute_result",
          "data": {
            "text/plain": [
              "100"
            ]
          },
          "metadata": {},
          "execution_count": 88
        }
      ]
    },
    {
      "cell_type": "code",
      "source": [
        "url = 'https://search.daum.net/search?w=news&nil_search=btn&DA=PGD&enc=utf8&cluster=y&cluster_page=1&q=%EC%82%BC%EC%84%B1%EC%A0%84%EC%9E%90&p='\n",
        "\n",
        "title = []\n",
        "\n",
        "for i in range(1, 11):\n",
        "    #i +=1\n",
        "    resp = requests.get(url+'i')\n",
        "\n",
        "    soup = BeautifulSoup(resp.content, 'lxml')\n",
        "    tit_tags = soup.select('div.item-title a')\n",
        "\n",
        "    for j in range(10):\n",
        "        title.append(tit_tags[j].text)\n",
        "\n",
        "title"
      ],
      "metadata": {
        "colab": {
          "base_uri": "https://localhost:8080/"
        },
        "id": "vdoa3NWzmMeE",
        "outputId": "18fcf4cc-fcf3-4895-ff10-c0880d516435"
      },
      "execution_count": null,
      "outputs": [
        {
          "output_type": "execute_result",
          "data": {
            "text/plain": [
              "[\" 증권가 '10만전자' 외치는데…삼성전자 주가 요지부동 까닭은 \",\n",
              " \" [집중진단] 삼성전자 8조 보조금에도 주가 '잠잠'…7만 전자 탈출은 언제? \",\n",
              " ' 국민연금, 신제윤 前금융위원장 삼성전자 사외이사 선임 찬성 ',\n",
              " ' 삼성전자, 임금 교섭 결렬…노조 쟁의 돌입 ',\n",
              " ' 삼성·하이닉스, 엔비디아 수주전 승자는 ',\n",
              " \" 삼성전자, 'V11' 낸드 개발 본격화…첫 500단 돌파 시도 \",\n",
              " ' “4분기 어닝쇼크 잊고 싶다”…삼성전자, 이번엔 실적도 주가도 오를까 ',\n",
              " ' \"별 차이 안나네\"…LG전자 직원 연봉, 삼성전자와 1천만원 차이 ',\n",
              " \" [포토] 삼성전자 '마리나 베이 샌즈'에 TV 공급 \",\n",
              " ' 삼성전자 노조, 오늘 파업 여부 결정하는 찬반 투표 ',\n",
              " \" 증권가 '10만전자' 외치는데…삼성전자 주가 요지부동 까닭은 \",\n",
              " \" [집중진단] 삼성전자 8조 보조금에도 주가 '잠잠'…7만 전자 탈출은 언제? \",\n",
              " ' 국민연금, 신제윤 前금융위원장 삼성전자 사외이사 선임 찬성 ',\n",
              " ' 삼성전자, 임금 교섭 결렬…노조 쟁의 돌입 ',\n",
              " ' 삼성·하이닉스, 엔비디아 수주전 승자는 ',\n",
              " \" 삼성전자, 'V11' 낸드 개발 본격화…첫 500단 돌파 시도 \",\n",
              " ' “4분기 어닝쇼크 잊고 싶다”…삼성전자, 이번엔 실적도 주가도 오를까 ',\n",
              " ' \"별 차이 안나네\"…LG전자 직원 연봉, 삼성전자와 1천만원 차이 ',\n",
              " \" [포토] 삼성전자 '마리나 베이 샌즈'에 TV 공급 \",\n",
              " ' 삼성전자 노조, 오늘 파업 여부 결정하는 찬반 투표 ',\n",
              " \" 증권가 '10만전자' 외치는데…삼성전자 주가 요지부동 까닭은 \",\n",
              " \" [집중진단] 삼성전자 8조 보조금에도 주가 '잠잠'…7만 전자 탈출은 언제? \",\n",
              " ' 국민연금, 신제윤 前금융위원장 삼성전자 사외이사 선임 찬성 ',\n",
              " ' 삼성전자, 임금 교섭 결렬…노조 쟁의 돌입 ',\n",
              " ' 삼성·하이닉스, 엔비디아 수주전 승자는 ',\n",
              " \" 삼성전자, 'V11' 낸드 개발 본격화…첫 500단 돌파 시도 \",\n",
              " ' “4분기 어닝쇼크 잊고 싶다”…삼성전자, 이번엔 실적도 주가도 오를까 ',\n",
              " ' \"별 차이 안나네\"…LG전자 직원 연봉, 삼성전자와 1천만원 차이 ',\n",
              " \" [포토] 삼성전자 '마리나 베이 샌즈'에 TV 공급 \",\n",
              " ' 삼성전자 노조, 오늘 파업 여부 결정하는 찬반 투표 ',\n",
              " \" 증권가 '10만전자' 외치는데…삼성전자 주가 요지부동 까닭은 \",\n",
              " \" [집중진단] 삼성전자 8조 보조금에도 주가 '잠잠'…7만 전자 탈출은 언제? \",\n",
              " ' 국민연금, 신제윤 前금융위원장 삼성전자 사외이사 선임 찬성 ',\n",
              " ' 삼성전자, 임금 교섭 결렬…노조 쟁의 돌입 ',\n",
              " ' 삼성·하이닉스, 엔비디아 수주전 승자는 ',\n",
              " \" 삼성전자, 'V11' 낸드 개발 본격화…첫 500단 돌파 시도 \",\n",
              " ' “4분기 어닝쇼크 잊고 싶다”…삼성전자, 이번엔 실적도 주가도 오를까 ',\n",
              " ' \"별 차이 안나네\"…LG전자 직원 연봉, 삼성전자와 1천만원 차이 ',\n",
              " \" [포토] 삼성전자 '마리나 베이 샌즈'에 TV 공급 \",\n",
              " ' 삼성전자 노조, 오늘 파업 여부 결정하는 찬반 투표 ',\n",
              " \" 증권가 '10만전자' 외치는데…삼성전자 주가 요지부동 까닭은 \",\n",
              " \" [집중진단] 삼성전자 8조 보조금에도 주가 '잠잠'…7만 전자 탈출은 언제? \",\n",
              " ' 국민연금, 신제윤 前금융위원장 삼성전자 사외이사 선임 찬성 ',\n",
              " ' 삼성전자, 임금 교섭 결렬…노조 쟁의 돌입 ',\n",
              " ' 삼성·하이닉스, 엔비디아 수주전 승자는 ',\n",
              " \" 삼성전자, 'V11' 낸드 개발 본격화…첫 500단 돌파 시도 \",\n",
              " ' “4분기 어닝쇼크 잊고 싶다”…삼성전자, 이번엔 실적도 주가도 오를까 ',\n",
              " ' \"별 차이 안나네\"…LG전자 직원 연봉, 삼성전자와 1천만원 차이 ',\n",
              " \" [포토] 삼성전자 '마리나 베이 샌즈'에 TV 공급 \",\n",
              " ' 삼성전자 노조, 오늘 파업 여부 결정하는 찬반 투표 ',\n",
              " \" 증권가 '10만전자' 외치는데…삼성전자 주가 요지부동 까닭은 \",\n",
              " \" [집중진단] 삼성전자 8조 보조금에도 주가 '잠잠'…7만 전자 탈출은 언제? \",\n",
              " ' 국민연금, 신제윤 前금융위원장 삼성전자 사외이사 선임 찬성 ',\n",
              " ' 삼성전자, 임금 교섭 결렬…노조 쟁의 돌입 ',\n",
              " ' 삼성·하이닉스, 엔비디아 수주전 승자는 ',\n",
              " \" 삼성전자, 'V11' 낸드 개발 본격화…첫 500단 돌파 시도 \",\n",
              " ' “4분기 어닝쇼크 잊고 싶다”…삼성전자, 이번엔 실적도 주가도 오를까 ',\n",
              " ' \"별 차이 안나네\"…LG전자 직원 연봉, 삼성전자와 1천만원 차이 ',\n",
              " \" [포토] 삼성전자 '마리나 베이 샌즈'에 TV 공급 \",\n",
              " ' 삼성전자 노조, 오늘 파업 여부 결정하는 찬반 투표 ',\n",
              " \" 증권가 '10만전자' 외치는데…삼성전자 주가 요지부동 까닭은 \",\n",
              " \" [집중진단] 삼성전자 8조 보조금에도 주가 '잠잠'…7만 전자 탈출은 언제? \",\n",
              " ' 국민연금, 신제윤 前금융위원장 삼성전자 사외이사 선임 찬성 ',\n",
              " ' 삼성전자, 임금 교섭 결렬…노조 쟁의 돌입 ',\n",
              " ' 삼성·하이닉스, 엔비디아 수주전 승자는 ',\n",
              " \" 삼성전자, 'V11' 낸드 개발 본격화…첫 500단 돌파 시도 \",\n",
              " ' “4분기 어닝쇼크 잊고 싶다”…삼성전자, 이번엔 실적도 주가도 오를까 ',\n",
              " ' \"별 차이 안나네\"…LG전자 직원 연봉, 삼성전자와 1천만원 차이 ',\n",
              " \" [포토] 삼성전자 '마리나 베이 샌즈'에 TV 공급 \",\n",
              " ' 삼성전자 노조, 오늘 파업 여부 결정하는 찬반 투표 ',\n",
              " \" 증권가 '10만전자' 외치는데…삼성전자 주가 요지부동 까닭은 \",\n",
              " \" [집중진단] 삼성전자 8조 보조금에도 주가 '잠잠'…7만 전자 탈출은 언제? \",\n",
              " ' 국민연금, 신제윤 前금융위원장 삼성전자 사외이사 선임 찬성 ',\n",
              " ' 삼성전자, 임금 교섭 결렬…노조 쟁의 돌입 ',\n",
              " ' 삼성·하이닉스, 엔비디아 수주전 승자는 ',\n",
              " \" 삼성전자, 'V11' 낸드 개발 본격화…첫 500단 돌파 시도 \",\n",
              " ' “4분기 어닝쇼크 잊고 싶다”…삼성전자, 이번엔 실적도 주가도 오를까 ',\n",
              " ' \"별 차이 안나네\"…LG전자 직원 연봉, 삼성전자와 1천만원 차이 ',\n",
              " \" [포토] 삼성전자 '마리나 베이 샌즈'에 TV 공급 \",\n",
              " ' 삼성전자 노조, 오늘 파업 여부 결정하는 찬반 투표 ',\n",
              " \" 증권가 '10만전자' 외치는데…삼성전자 주가 요지부동 까닭은 \",\n",
              " \" [집중진단] 삼성전자 8조 보조금에도 주가 '잠잠'…7만 전자 탈출은 언제? \",\n",
              " ' 국민연금, 신제윤 前금융위원장 삼성전자 사외이사 선임 찬성 ',\n",
              " ' 삼성전자, 임금 교섭 결렬…노조 쟁의 돌입 ',\n",
              " ' 삼성·하이닉스, 엔비디아 수주전 승자는 ',\n",
              " \" 삼성전자, 'V11' 낸드 개발 본격화…첫 500단 돌파 시도 \",\n",
              " ' “4분기 어닝쇼크 잊고 싶다”…삼성전자, 이번엔 실적도 주가도 오를까 ',\n",
              " ' \"별 차이 안나네\"…LG전자 직원 연봉, 삼성전자와 1천만원 차이 ',\n",
              " \" [포토] 삼성전자 '마리나 베이 샌즈'에 TV 공급 \",\n",
              " ' 삼성전자 노조, 오늘 파업 여부 결정하는 찬반 투표 ',\n",
              " \" 증권가 '10만전자' 외치는데…삼성전자 주가 요지부동 까닭은 \",\n",
              " \" [집중진단] 삼성전자 8조 보조금에도 주가 '잠잠'…7만 전자 탈출은 언제? \",\n",
              " ' 국민연금, 신제윤 前금융위원장 삼성전자 사외이사 선임 찬성 ',\n",
              " ' 삼성전자, 임금 교섭 결렬…노조 쟁의 돌입 ',\n",
              " ' 삼성·하이닉스, 엔비디아 수주전 승자는 ',\n",
              " \" 삼성전자, 'V11' 낸드 개발 본격화…첫 500단 돌파 시도 \",\n",
              " ' “4분기 어닝쇼크 잊고 싶다”…삼성전자, 이번엔 실적도 주가도 오를까 ',\n",
              " ' \"별 차이 안나네\"…LG전자 직원 연봉, 삼성전자와 1천만원 차이 ',\n",
              " \" [포토] 삼성전자 '마리나 베이 샌즈'에 TV 공급 \",\n",
              " ' 삼성전자 노조, 오늘 파업 여부 결정하는 찬반 투표 ']"
            ]
          },
          "metadata": {},
          "execution_count": 89
        }
      ]
    },
    {
      "cell_type": "code",
      "source": [
        "url = 'https://search.daum.net/search?w=news&nil_search=btn&DA=PGD&enc=utf8&cluster=y&cluster_page=1&q=%EC%82%BC%EC%84%B1%EC%A0%84%EC%9E%90&p=10'\n",
        "\n",
        "resp = requests.get(url)"
      ],
      "metadata": {
        "id": "PYOr1vQXlI5v"
      },
      "execution_count": null,
      "outputs": []
    },
    {
      "cell_type": "code",
      "source": [
        "soup = BeautifulSoup(resp.content, 'lxml')\n",
        "\n",
        "tit_tags = soup.select('div.item-title')\n",
        "len(tit_tags)"
      ],
      "metadata": {
        "colab": {
          "base_uri": "https://localhost:8080/"
        },
        "id": "sNESezEQZ5nI",
        "outputId": "25a5171d-a621-4519-be28-d1154a87e420"
      },
      "execution_count": null,
      "outputs": [
        {
          "output_type": "execute_result",
          "data": {
            "text/plain": [
              "10"
            ]
          },
          "metadata": {},
          "execution_count": 85
        }
      ]
    },
    {
      "cell_type": "code",
      "source": [
        "title = []\n",
        "\n",
        "for i in range(10):\n",
        "    title.append(tit_tags[i].text)\n",
        "\n",
        "title"
      ],
      "metadata": {
        "colab": {
          "base_uri": "https://localhost:8080/"
        },
        "id": "KvCl3-tCZ_Jw",
        "outputId": "bbedeaac-d289-4d5d-e52a-33748d1c144e"
      },
      "execution_count": null,
      "outputs": [
        {
          "output_type": "execute_result",
          "data": {
            "text/plain": [
              "[\"   [기업] 삼성·LG전자, 'AWE 2024'에서 나란히 금상 수상   \",\n",
              " \"   싱가포르 '마리나 베이 샌즈' 객실에 삼성 TV   \",\n",
              " '   글로벌 PC 제조사, 키오스크·산업용 PC에서 HDD 뺀다   ',\n",
              " \"   삼성 LTE폰 '갤A15', 사실상 '공짜'…2만원대 LTE 요금제도 최대 지원금   \",\n",
              " '   [클릭 e종목]\"삼성전자, 하반기 AI서버 시장 공략 본격화 기대\"   ',\n",
              " '   \"애플, 자체AI 대신 구글AI \\'제미니\\' 아이폰에 탑재 추진\"   ',\n",
              " '   “문제는 00이야”...삼성·SK하이닉스, 엔비디아 GTC서 보여줄 것은   ',\n",
              " '   [4·10 총선 `열전지대`] 가장 젊은 `반도체벨트 요충지`… 공영운·한정민·이준석 `운명의 3파전`   ',\n",
              " '   고위 당국자 “삼성전자 美보조금, 기대에 상당히 부응”   ',\n",
              " '   서철모 前 화성시장 “이준석 당선 위해 최선의 노력”   ']"
            ]
          },
          "metadata": {},
          "execution_count": 86
        }
      ]
    },
    {
      "cell_type": "markdown",
      "source": [
        "네이버 지식 '중학교 수학' 크롤링"
      ],
      "metadata": {
        "id": "v8US8r27mheo"
      }
    },
    {
      "cell_type": "code",
      "source": [],
      "metadata": {
        "id": "YYDL4jubaqmv"
      },
      "execution_count": null,
      "outputs": []
    }
  ]
}