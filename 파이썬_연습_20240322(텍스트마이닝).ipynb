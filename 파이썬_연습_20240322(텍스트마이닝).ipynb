{
  "nbformat": 4,
  "nbformat_minor": 0,
  "metadata": {
    "colab": {
      "provenance": [],
      "authorship_tag": "ABX9TyMl6y2UOIW69ThwJnBjFjXJ",
      "include_colab_link": true
    },
    "kernelspec": {
      "name": "python3",
      "display_name": "Python 3"
    },
    "language_info": {
      "name": "python"
    }
  },
  "cells": [
    {
      "cell_type": "markdown",
      "metadata": {
        "id": "view-in-github",
        "colab_type": "text"
      },
      "source": [
        "<a href=\"https://colab.research.google.com/github/Gim4620/Python/blob/main/%ED%8C%8C%EC%9D%B4%EC%8D%AC_%EC%97%B0%EC%8A%B5_20240322(%ED%85%8D%EC%8A%A4%ED%8A%B8%EB%A7%88%EC%9D%B4%EB%8B%9D).ipynb\" target=\"_parent\"><img src=\"https://colab.research.google.com/assets/colab-badge.svg\" alt=\"Open In Colab\"/></a>"
      ]
    },
    {
      "cell_type": "code",
      "execution_count": null,
      "metadata": {
        "colab": {
          "base_uri": "https://localhost:8080/"
        },
        "id": "Y0Kr_Ev6ilV-",
        "outputId": "a05fac8c-e711-4ad4-9096-6dc2f1d40842"
      },
      "outputs": [
        {
          "output_type": "execute_result",
          "data": {
            "text/plain": [
              "['science', 'mountain']"
            ]
          },
          "metadata": {},
          "execution_count": 4
        }
      ],
      "source": [
        "word = [\"school\", \"game\", \"piano\", \"science\", \"hotel\", 'mountain']\n",
        "\n",
        "a = []\n",
        "\n",
        "for i in word:\n",
        "    if len(i)>6:\n",
        "        a.append(i)\n",
        "\n",
        "a"
      ]
    },
    {
      "cell_type": "code",
      "source": [
        "input()"
      ],
      "metadata": {
        "colab": {
          "base_uri": "https://localhost:8080/",
          "height": 54
        },
        "id": "9OZ1PeW7i8XO",
        "outputId": "00f47029-31f7-4d88-8733-8af39559ba74"
      },
      "execution_count": null,
      "outputs": [
        {
          "name": "stdout",
          "output_type": "stream",
          "text": [
            "a\n"
          ]
        },
        {
          "output_type": "execute_result",
          "data": {
            "text/plain": [
              "'a'"
            ],
            "application/vnd.google.colaboratory.intrinsic+json": {
              "type": "string"
            }
          },
          "metadata": {},
          "execution_count": 5
        }
      ]
    },
    {
      "cell_type": "code",
      "source": [
        "num = input('숫자를 입력해주세요:')\n",
        "print(num)"
      ],
      "metadata": {
        "colab": {
          "base_uri": "https://localhost:8080/"
        },
        "id": "vqru0RwqlOLW",
        "outputId": "3935deb3-7d81-4bd0-e352-ee038485231d"
      },
      "execution_count": null,
      "outputs": [
        {
          "output_type": "stream",
          "name": "stdout",
          "text": [
            "숫자를 입력해주세요:2\n",
            "2\n"
          ]
        }
      ]
    },
    {
      "cell_type": "code",
      "source": [
        "sum = 0\n",
        "\n",
        "while 1:\n",
        "    num = input('숫자를 입력해주세요')\n",
        "    if (num == 's' or num == 'S'):\n",
        "        print(sum)\n",
        "        break\n",
        "    else:\n",
        "        sum = sum + int(num)"
      ],
      "metadata": {
        "colab": {
          "base_uri": "https://localhost:8080/"
        },
        "id": "OFWp7e3Hldc2",
        "outputId": "5f1f4c2c-ee56-4e0a-9b32-452afcbd0c48"
      },
      "execution_count": null,
      "outputs": [
        {
          "output_type": "stream",
          "name": "stdout",
          "text": [
            "숫자를 입력해주세요2\n",
            "숫자를 입력해주세요3\n",
            "숫자를 입력해주세요S\n",
            "5\n"
          ]
        }
      ]
    },
    {
      "cell_type": "code",
      "source": [
        "import nltk\n",
        "nltk.download('stopwords')\n",
        "\n",
        "print('영어 불용어 갯수:', len(nltk.corpus.stopwords.words('english')))\n",
        "print(nltk.corpus.stopwords.words('english')[:40])"
      ],
      "metadata": {
        "id": "h1bb8lfAls1X",
        "colab": {
          "base_uri": "https://localhost:8080/"
        },
        "outputId": "7e15480b-d749-485f-a002-28ddc3169080"
      },
      "execution_count": null,
      "outputs": [
        {
          "output_type": "stream",
          "name": "stdout",
          "text": [
            "영어 불용어 갯수: 179\n",
            "['i', 'me', 'my', 'myself', 'we', 'our', 'ours', 'ourselves', 'you', \"you're\", \"you've\", \"you'll\", \"you'd\", 'your', 'yours', 'yourself', 'yourselves', 'he', 'him', 'his', 'himself', 'she', \"she's\", 'her', 'hers', 'herself', 'it', \"it's\", 'its', 'itself', 'they', 'them', 'their', 'theirs', 'themselves', 'what', 'which', 'who', 'whom', 'this']\n"
          ]
        },
        {
          "output_type": "stream",
          "name": "stderr",
          "text": [
            "[nltk_data] Downloading package stopwords to /root/nltk_data...\n",
            "[nltk_data]   Unzipping corpora/stopwords.zip.\n"
          ]
        }
      ]
    },
    {
      "cell_type": "code",
      "source": [
        "stopwords.fileids()"
      ],
      "metadata": {
        "colab": {
          "base_uri": "https://localhost:8080/"
        },
        "id": "n1uY5jVe8fp2",
        "outputId": "419e80fe-4bdb-4632-9316-06520e9fb013"
      },
      "execution_count": null,
      "outputs": [
        {
          "output_type": "execute_result",
          "data": {
            "text/plain": [
              "['arabic',\n",
              " 'azerbaijani',\n",
              " 'basque',\n",
              " 'bengali',\n",
              " 'catalan',\n",
              " 'chinese',\n",
              " 'danish',\n",
              " 'dutch',\n",
              " 'english',\n",
              " 'finnish',\n",
              " 'french',\n",
              " 'german',\n",
              " 'greek',\n",
              " 'hebrew',\n",
              " 'hinglish',\n",
              " 'hungarian',\n",
              " 'indonesian',\n",
              " 'italian',\n",
              " 'kazakh',\n",
              " 'nepali',\n",
              " 'norwegian',\n",
              " 'portuguese',\n",
              " 'romanian',\n",
              " 'russian',\n",
              " 'slovene',\n",
              " 'spanish',\n",
              " 'swedish',\n",
              " 'tajik',\n",
              " 'turkish']"
            ]
          },
          "metadata": {},
          "execution_count": 6
        }
      ]
    },
    {
      "cell_type": "code",
      "source": [
        "import nltk\n",
        "nltk.download('punkt')"
      ],
      "metadata": {
        "colab": {
          "base_uri": "https://localhost:8080/"
        },
        "id": "0Ar5cpav-IEG",
        "outputId": "aa14ec2c-8c52-49b9-c96b-14331cfba411"
      },
      "execution_count": null,
      "outputs": [
        {
          "output_type": "stream",
          "name": "stderr",
          "text": [
            "[nltk_data] Downloading package punkt to /root/nltk_data...\n",
            "[nltk_data]   Unzipping tokenizers/punkt.zip.\n"
          ]
        },
        {
          "output_type": "execute_result",
          "data": {
            "text/plain": [
              "True"
            ]
          },
          "metadata": {},
          "execution_count": 7
        }
      ]
    },
    {
      "cell_type": "code",
      "source": [
        "from nltk.corpus import stopwords\n",
        "from nltk.tokenize import word_tokenize\n",
        "\n",
        "\n",
        "example = \"Family is not an important thing. It's eveything\"\n",
        "stop_words = set(stopwords.words('english'))\n",
        "\n",
        "word_tokens = word_tokenize(example)\n",
        "\n",
        "result = []\n",
        "for token in word_tokens:\n",
        "    if token not in stop_words:\n",
        "        result.append(token)\n",
        "\n",
        "print(word_tokens)\n",
        "print(result)"
      ],
      "metadata": {
        "colab": {
          "base_uri": "https://localhost:8080/"
        },
        "id": "V_1G83SO81PE",
        "outputId": "ee310c37-3638-4e2f-b79d-5548a8276ae2"
      },
      "execution_count": null,
      "outputs": [
        {
          "output_type": "stream",
          "name": "stdout",
          "text": [
            "['Family', 'is', 'not', 'an', 'important', 'thing', '.', 'It', \"'s\", 'eveything']\n",
            "['Family', 'important', 'thing', '.', 'It', \"'s\", 'eveything']\n"
          ]
        }
      ]
    },
    {
      "cell_type": "code",
      "source": [
        "from nltk.corpus import stopwords\n",
        "from nltk.tokenize import word_tokenize\n",
        "\n",
        "example = \"The Natural Language Toolkit, or more commonly NLTK, is a suite of libraries and programs for symbolic and statistical natural language processing for English written in the Python programming\"\n",
        "# stop_words = set(stopwords.words('english'))\n",
        "stop_words = stopwords.words('english')\n",
        "\n",
        "word_tokens = word_tokenize(example)\n",
        "\n",
        "result = []\n",
        "for w in word_tokens:\n",
        "    if w not in stop_words:\n",
        "        result.append(w)\n",
        "\n",
        "print(word_tokens,'\\n')\n",
        "print(result)"
      ],
      "metadata": {
        "colab": {
          "base_uri": "https://localhost:8080/"
        },
        "id": "-IXoruYH9xL4",
        "outputId": "7c6740e3-cbb5-46bd-b4e8-03c9fb22df39"
      },
      "execution_count": null,
      "outputs": [
        {
          "output_type": "stream",
          "name": "stdout",
          "text": [
            "['The', 'Natural', 'Language', 'Toolkit', ',', 'or', 'more', 'commonly', 'NLTK', ',', 'is', 'a', 'suite', 'of', 'libraries', 'and', 'programs', 'for', 'symbolic', 'and', 'statistical', 'natural', 'language', 'processing', 'for', 'English', 'written', 'in', 'the', 'Python', 'programming'] \n",
            "\n",
            "['The', 'Natural', 'Language', 'Toolkit', ',', 'commonly', 'NLTK', ',', 'suite', 'libraries', 'programs', 'symbolic', 'statistical', 'natural', 'language', 'processing', 'English', 'written', 'Python', 'programming']\n"
          ]
        }
      ]
    },
    {
      "cell_type": "code",
      "source": [
        "stop_words = \"on in the\"\n",
        "stop_words = stop_words.split(\" \")\n",
        "stop_words\n",
        "\n",
        "sentence = \"singer on the stage\"\n",
        "sentence = sentence.split()\n",
        "\n",
        "nouns = []\n",
        "for noun in sentence:\n",
        "    if noun not in stop_words:\n",
        "        nouns.append(noun)\n",
        "\n",
        "nouns"
      ],
      "metadata": {
        "colab": {
          "base_uri": "https://localhost:8080/"
        },
        "id": "q7muIcTc-OcL",
        "outputId": "d29bde4f-a6a1-475a-9b2a-18464fc6f748"
      },
      "execution_count": null,
      "outputs": [
        {
          "output_type": "execute_result",
          "data": {
            "text/plain": [
              "['singer', 'stage']"
            ]
          },
          "metadata": {},
          "execution_count": 13
        }
      ]
    },
    {
      "cell_type": "code",
      "source": [
        "stop_words = \"I my me the a\"\n",
        "stop_words = stop_words.split(\" \")\n",
        "\n",
        "sentence = \"I love my car\"\n",
        "words = sentence.split()\n",
        "\n",
        "result = []\n",
        "for word in words:\n",
        "    if word not in stop_words:\n",
        "        result.append(word)\n",
        "\n",
        "print(result)"
      ],
      "metadata": {
        "colab": {
          "base_uri": "https://localhost:8080/"
        },
        "id": "jmgTku9__Htu",
        "outputId": "12ad9f32-7726-4a56-b65a-6456643bdaec"
      },
      "execution_count": null,
      "outputs": [
        {
          "output_type": "stream",
          "name": "stdout",
          "text": [
            "['love', 'car']\n"
          ]
        }
      ]
    },
    {
      "cell_type": "code",
      "source": [
        "sen = \"I love my son\"\n",
        "print(sen.split())\n",
        "print(sen.split(\" \"))"
      ],
      "metadata": {
        "colab": {
          "base_uri": "https://localhost:8080/"
        },
        "id": "R48wCfIP_jsb",
        "outputId": "a0cf5abc-b7ef-4283-98d9-b0c34d8e0659"
      },
      "execution_count": null,
      "outputs": [
        {
          "output_type": "stream",
          "name": "stdout",
          "text": [
            "['I', 'love', 'my', 'son']\n",
            "['I', 'love', 'my', 'son']\n"
          ]
        }
      ]
    },
    {
      "cell_type": "code",
      "source": [
        "from nltk.corpus import stopwords\n",
        "from nltk.tokenize import word_tokenize\n",
        "\n",
        "sentence = 'South Korea’s Ambassador to Australia and ex-Defense Minister Lee Jong-sup returned home Thursday as the rival parties here called for a tougher investigation into his alleged manipulation of a military probe into the death of a young marine last year.'\n",
        "\n",
        "stop_words = stopwords.words('english')\n",
        "\n",
        "word_tokens = word_tokenize(sentence)\n",
        "\n",
        "result = []\n",
        "\n",
        "for token in word_tokens:\n",
        "    if token not in stop_words:\n",
        "        result.append(token)\n",
        "\n",
        "print(result)"
      ],
      "metadata": {
        "colab": {
          "base_uri": "https://localhost:8080/"
        },
        "id": "ZeqDOEKVBQ4R",
        "outputId": "8a76733d-caa2-4ff7-a6c8-ac6fb81c4203"
      },
      "execution_count": null,
      "outputs": [
        {
          "output_type": "stream",
          "name": "stdout",
          "text": [
            "['South', 'Korea', '’', 'Ambassador', 'Australia', 'ex-Defense', 'Minister', 'Lee', 'Jong-sup', 'returned', 'home', 'Thursday', 'rival', 'parties', 'called', 'tougher', 'investigation', 'alleged', 'manipulation', 'military', 'probe', 'death', 'young', 'marine', 'last', 'year', '.']\n"
          ]
        }
      ]
    },
    {
      "cell_type": "code",
      "source": [
        "from nltk.corpus import stopwords\n",
        "from nltk.tokenize import word_tokenize"
      ],
      "metadata": {
        "id": "sMBVMRa6CznK"
      },
      "execution_count": 33,
      "outputs": []
    },
    {
      "cell_type": "code",
      "source": [
        "sentence = \"I like my car. Do you know?\""
      ],
      "metadata": {
        "id": "6ARiea5uXcR9"
      },
      "execution_count": 34,
      "outputs": []
    },
    {
      "cell_type": "code",
      "source": [
        "import spacy\n",
        "nlp = spacy.load('en_core_web_sm')\n",
        "doc = nlp(u\"he was running late\")\n",
        "\n",
        "for token in doc:\n",
        "    print(\"{} -> {}\".format(token, token.lemma_))"
      ],
      "metadata": {
        "colab": {
          "base_uri": "https://localhost:8080/"
        },
        "id": "xT8xNv1eZK9n",
        "outputId": "256f3032-9555-4dab-8168-bc98dabc8c0b"
      },
      "execution_count": 37,
      "outputs": [
        {
          "output_type": "stream",
          "name": "stdout",
          "text": [
            "he -> he\n",
            "was -> be\n",
            "running -> run\n",
            "late -> late\n"
          ]
        }
      ]
    },
    {
      "cell_type": "code",
      "source": [
        "from nltk.stem import PorterStemmer\n",
        "from nltk.tokenize import word_tokenize\n",
        "\n",
        "stemmer = PorterStemmer()\n",
        "text = \"This was not the map we found in Billy Bones's chest, but an accurate copy, complete in all things--names and heights and soundings--with the single exception of the red crosses and the written notes.\"\n",
        "\n",
        "words = word_tokenize(text)\n",
        "print(words)"
      ],
      "metadata": {
        "colab": {
          "base_uri": "https://localhost:8080/"
        },
        "id": "qFTErRdAZhsR",
        "outputId": "19cd712d-7ab5-4fa4-8ecc-85a96bb2e8c8"
      },
      "execution_count": 41,
      "outputs": [
        {
          "output_type": "stream",
          "name": "stdout",
          "text": [
            "['This', 'was', 'not', 'the', 'map', 'we', 'found', 'in', 'Billy', 'Bones', \"'s\", 'chest', ',', 'but', 'an', 'accurate', 'copy', ',', 'complete', 'in', 'all', 'things', '--', 'names', 'and', 'heights', 'and', 'soundings', '--', 'with', 'the', 'single', 'exception', 'of', 'the', 'red', 'crosses', 'and', 'the', 'written', 'notes', '.']\n"
          ]
        }
      ]
    },
    {
      "cell_type": "code",
      "source": [
        "print([stemmer.stem(w) for w in words])"
      ],
      "metadata": {
        "colab": {
          "base_uri": "https://localhost:8080/"
        },
        "id": "NgfdaZpzaY8O",
        "outputId": "6dc82b22-0e96-48a8-f1f4-aaf73b774a0c"
      },
      "execution_count": 42,
      "outputs": [
        {
          "output_type": "stream",
          "name": "stdout",
          "text": [
            "['thi', 'wa', 'not', 'the', 'map', 'we', 'found', 'in', 'billi', 'bone', \"'s\", 'chest', ',', 'but', 'an', 'accur', 'copi', ',', 'complet', 'in', 'all', 'thing', '--', 'name', 'and', 'height', 'and', 'sound', '--', 'with', 'the', 'singl', 'except', 'of', 'the', 'red', 'cross', 'and', 'the', 'written', 'note', '.']\n"
          ]
        }
      ]
    },
    {
      "cell_type": "code",
      "source": [
        "from nltk.stem import PorterStemmer\n",
        "from nltk.tokenize import word_tokenize\n",
        "\n",
        "stemmer = PorterStemmer()\n",
        "text = \"This was not the map we found in Billy Bones's chest, but an accurate copy, complete in all things--names and heights and soundings--with the single exception of the red crosses and the written notes.\"\n",
        "\n",
        "words = word_tokenize(text)\n",
        "print(words)"
      ],
      "metadata": {
        "colab": {
          "base_uri": "https://localhost:8080/"
        },
        "id": "bWvPcmk5andx",
        "outputId": "c98d46e4-96c3-49b2-c893-6f39cbd0c661"
      },
      "execution_count": 45,
      "outputs": [
        {
          "output_type": "stream",
          "name": "stdout",
          "text": [
            "['This', 'was', 'not', 'the', 'map', 'we', 'found', 'in', 'Billy', 'Bones', \"'s\", 'chest', ',', 'but', 'an', 'accurate', 'copy', ',', 'complete', 'in', 'all', 'things', '--', 'names', 'and', 'heights', 'and', 'soundings', '--', 'with', 'the', 'single', 'exception', 'of', 'the', 'red', 'crosses', 'and', 'the', 'written', 'notes', '.']\n"
          ]
        }
      ]
    },
    {
      "cell_type": "code",
      "source": [
        "print([stemmer.stem(w) for w in words])"
      ],
      "metadata": {
        "colab": {
          "base_uri": "https://localhost:8080/"
        },
        "id": "Gs5A6OFlbXj-",
        "outputId": "25e26c92-91d4-4cd0-a720-98fee9233595"
      },
      "execution_count": 46,
      "outputs": [
        {
          "output_type": "stream",
          "name": "stdout",
          "text": [
            "['thi', 'wa', 'not', 'the', 'map', 'we', 'found', 'in', 'billi', 'bone', \"'s\", 'chest', ',', 'but', 'an', 'accur', 'copi', ',', 'complet', 'in', 'all', 'thing', '--', 'name', 'and', 'height', 'and', 'sound', '--', 'with', 'the', 'singl', 'except', 'of', 'the', 'red', 'cross', 'and', 'the', 'written', 'note', '.']\n"
          ]
        }
      ]
    },
    {
      "cell_type": "code",
      "source": [
        "from nltk.stem import PorterStemmer\n",
        "from nltk.tokenize import word_tokenize\n",
        "\n",
        "stemmer = PorterStemmer()\n",
        "\n",
        "text = \"This was not the map we found in Billy Bones's chest, but an accurate copy, complete in all things--names and heights and soundings--with the single exception of the red crosses and the written notes.\"\n",
        "\n",
        "tokn = word_tokenize(text)\n",
        "\n",
        "corpus = [stemmer.stem(w) for w in tokn]\n",
        "print(corpus)"
      ],
      "metadata": {
        "colab": {
          "base_uri": "https://localhost:8080/"
        },
        "id": "e54dSa-Xbpyw",
        "outputId": "7115ab11-ab8f-4104-ea40-20ee527011dd"
      },
      "execution_count": 54,
      "outputs": [
        {
          "output_type": "stream",
          "name": "stdout",
          "text": [
            "['thi', 'wa', 'not', 'the', 'map', 'we', 'found', 'in', 'billi', 'bone', \"'s\", 'chest', ',', 'but', 'an', 'accur', 'copi', ',', 'complet', 'in', 'all', 'thing', '--', 'name', 'and', 'height', 'and', 'sound', '--', 'with', 'the', 'singl', 'except', 'of', 'the', 'red', 'cross', 'and', 'the', 'written', 'note', '.']\n"
          ]
        }
      ]
    },
    {
      "cell_type": "code",
      "source": [
        "text = 'South Korea’s Ambassador to Australia and ex-Defense Minister Lee Jong-sup returned home Thursday as the rival parties here called for a tougher investigation into his alleged manipulation of a military probe into the death of a young marine last year.'"
      ],
      "metadata": {
        "id": "dSPB3kktcVCl"
      },
      "execution_count": 55,
      "outputs": []
    },
    {
      "cell_type": "code",
      "source": [
        "from nltk.stem import PorterStemmer\n",
        "from nltk.tokenize import word_tokenize\n",
        "\n",
        "stemmer = PorterStemmer()\n",
        "\n",
        "token = word_tokenize(text)\n",
        "\n",
        "corpus = [stemmer.stem(w) for w in token]\n",
        "#corpus"
      ],
      "metadata": {
        "id": "_36fepzUdLS9"
      },
      "execution_count": 57,
      "outputs": []
    },
    {
      "cell_type": "code",
      "source": [
        "from nltk.stem import PorterStemmer\n",
        "from nltk.tokenize import word_tokenize\n",
        "from nltk.stem.regexp import RegexpStemmer\n",
        "\n",
        "stemmer = RegexpStemmer('ing')\n",
        "print(stemmer.stem('cooking'))\n",
        "print(stemmer.stem('cookery'))\n",
        "print(stemmer.stem('ingleside'))"
      ],
      "metadata": {
        "colab": {
          "base_uri": "https://localhost:8080/"
        },
        "id": "dxVWB9B4dtY6",
        "outputId": "9d00fe3d-3045-4c56-84f6-d3899c7a61c4"
      },
      "execution_count": 59,
      "outputs": [
        {
          "output_type": "stream",
          "name": "stdout",
          "text": [
            "cook\n",
            "cookery\n",
            "leside\n"
          ]
        }
      ]
    },
    {
      "cell_type": "code",
      "source": [
        "# from nltk.stem import SnowballStemmer\n",
        "\n",
        "# stemmer = SnowballStemmer('english')\n",
        "\n",
        "# words = ['']"
      ],
      "metadata": {
        "id": "luDgY7jZjiGy"
      },
      "execution_count": null,
      "outputs": []
    },
    {
      "cell_type": "code",
      "source": [
        "from nltk.stem import WordNetLemmatizer\n",
        "\n",
        "import nltk\n",
        "nltk.download('wordnet')\n",
        "nltk.download('omw-1.4')\n",
        "\n",
        "lemma = WordNetLemmatizer()\n",
        "\n",
        "print(lemma.lemmatize('amusing'), lemma.lemmatize('amuses'), lemma.lemmatize('asmused'))"
      ],
      "metadata": {
        "colab": {
          "base_uri": "https://localhost:8080/"
        },
        "id": "kRp6fHvLjKaZ",
        "outputId": "2ba1850e-ca4c-4537-c20e-f20eb11cc119"
      },
      "execution_count": 62,
      "outputs": [
        {
          "output_type": "stream",
          "name": "stdout",
          "text": [
            "amusing amuses asmused\n"
          ]
        },
        {
          "output_type": "stream",
          "name": "stderr",
          "text": [
            "[nltk_data] Downloading package wordnet to /root/nltk_data...\n",
            "[nltk_data]   Package wordnet is already up-to-date!\n",
            "[nltk_data] Downloading package omw-1.4 to /root/nltk_data...\n",
            "[nltk_data]   Package omw-1.4 is already up-to-date!\n"
          ]
        }
      ]
    },
    {
      "cell_type": "code",
      "source": [
        "import re\n",
        "r = re.compile(\"a..c\")\n",
        "r.search(\"kkk\")\n",
        "# 아무런 결과도 출력되지 않는다.\n",
        "print(r.search(\"abbc\"))"
      ],
      "metadata": {
        "colab": {
          "base_uri": "https://localhost:8080/"
        },
        "id": "hSzek38Dk6V7",
        "outputId": "68f269ab-e6d5-4591-c5fc-f15b8574fee8"
      },
      "execution_count": 70,
      "outputs": [
        {
          "output_type": "stream",
          "name": "stdout",
          "text": [
            "<re.Match object; span=(0, 4), match='abbc'>\n"
          ]
        }
      ]
    },
    {
      "cell_type": "code",
      "source": [
        "r = re.compile('ab?c')\n",
        "r.search('abbc')"
      ],
      "metadata": {
        "id": "Sj_4hFGclz_D"
      },
      "execution_count": 72,
      "outputs": []
    },
    {
      "cell_type": "code",
      "source": [
        "r.search('aec')"
      ],
      "metadata": {
        "id": "VtPEzYMamW9P"
      },
      "execution_count": 69,
      "outputs": []
    },
    {
      "cell_type": "code",
      "source": [
        "import re\n",
        "r = re.compile('ab+c')\n",
        "\n",
        "a = []\n",
        "a.append(r.search('abbc'))\n",
        "a"
      ],
      "metadata": {
        "colab": {
          "base_uri": "https://localhost:8080/"
        },
        "id": "jQgjKUWEmbHd",
        "outputId": "b4599232-6260-407e-8f33-1b027583d261"
      },
      "execution_count": 76,
      "outputs": [
        {
          "output_type": "execute_result",
          "data": {
            "text/plain": [
              "[<re.Match object; span=(0, 4), match='abbc'>]"
            ]
          },
          "metadata": {},
          "execution_count": 76
        }
      ]
    },
    {
      "cell_type": "code",
      "source": [
        "a = 1/3\n",
        "print('format extend : {:.30f}'.format(a)) # 10-17 승부터 에러남"
      ],
      "metadata": {
        "colab": {
          "base_uri": "https://localhost:8080/"
        },
        "id": "UvfqiYqwnOSv",
        "outputId": "d7d23d2a-d8df-4fa3-e7ee-43f9ca67ae71"
      },
      "execution_count": 77,
      "outputs": [
        {
          "output_type": "stream",
          "name": "stdout",
          "text": [
            "format extend : 0.333333333333333314829616256247\n"
          ]
        }
      ]
    },
    {
      "cell_type": "code",
      "source": [
        "import re\n",
        "\n",
        "r = re.compile('^a')"
      ],
      "metadata": {
        "id": "z2FWzAOznr5c"
      },
      "execution_count": 80,
      "outputs": []
    },
    {
      "cell_type": "code",
      "source": [
        "r.search('bbc')"
      ],
      "metadata": {
        "id": "60cFgp_Oo5I6"
      },
      "execution_count": 81,
      "outputs": []
    },
    {
      "cell_type": "code",
      "source": [
        "r.search('ab')"
      ],
      "metadata": {
        "colab": {
          "base_uri": "https://localhost:8080/"
        },
        "id": "Evfg5AQJo-99",
        "outputId": "f0e42137-cebf-47e0-898e-b19ce303783d"
      },
      "execution_count": 82,
      "outputs": [
        {
          "output_type": "execute_result",
          "data": {
            "text/plain": [
              "<re.Match object; span=(0, 1), match='a'>"
            ]
          },
          "metadata": {},
          "execution_count": 82
        }
      ]
    },
    {
      "cell_type": "code",
      "source": [
        "# ^[a-z][A-Z]\\.\n",
        "# \\은 뒤에 기호 .을 문자로 읽고 잡으라는\n",
        "# Mrs., Dr. 등 잡아냄\n",
        "# 111-232-223-232 = [0-9][0-9][0-9]\\-[0-9][0-9][0-9]\\-[0-9][0-9][0-9]\\-[0-9][0-9][0-9] 로 잡으면 됨"
      ],
      "metadata": {
        "id": "nSVn1J2YpATK"
      },
      "execution_count": 83,
      "outputs": []
    },
    {
      "cell_type": "code",
      "source": [
        "import re\n",
        "\n",
        "r = re.compile('[0-9][0-9][0-9]\\-[0-9][0-9][0-9]\\-[0-9][0-9][0-9]\\-[0-9][0-9][0-9]')\n",
        "r.search('111-232-223-232')"
      ],
      "metadata": {
        "colab": {
          "base_uri": "https://localhost:8080/"
        },
        "id": "O1QOlPJJrUcO",
        "outputId": "9a6e7017-f4de-4d9b-83e7-fbdf414baa1d"
      },
      "execution_count": 84,
      "outputs": [
        {
          "output_type": "execute_result",
          "data": {
            "text/plain": [
              "<re.Match object; span=(0, 15), match='111-232-223-232'>"
            ]
          },
          "metadata": {},
          "execution_count": 84
        }
      ]
    },
    {
      "cell_type": "code",
      "source": [
        "import re\n",
        "r = re.compile(\"[abc]\")\n",
        "r.search('zzz')"
      ],
      "metadata": {
        "id": "c62ahRz7rhC8"
      },
      "execution_count": 85,
      "outputs": []
    },
    {
      "cell_type": "code",
      "source": [
        "text = \"\"\"이름 : 김철수\n",
        "전화번호 : 010 - 1234 - 1234\n",
        "나이 : 30\n",
        "성별 : 남\"\"\""
      ],
      "metadata": {
        "id": "y7kXqrhbr-cI"
      },
      "execution_count": 88,
      "outputs": []
    },
    {
      "cell_type": "code",
      "source": [
        "text"
      ],
      "metadata": {
        "colab": {
          "base_uri": "https://localhost:8080/",
          "height": 36
        },
        "id": "HmbleuipyH2S",
        "outputId": "cccda1ed-87cf-48af-a57c-c26080c144fe"
      },
      "execution_count": 89,
      "outputs": [
        {
          "output_type": "execute_result",
          "data": {
            "text/plain": [
              "'이름 : 김철수\\n전화번호 : 010 - 1234 - 1234\\n나이 : 30\\n성별 : 남'"
            ],
            "application/vnd.google.colaboratory.intrinsic+json": {
              "type": "string"
            }
          },
          "metadata": {},
          "execution_count": 89
        }
      ]
    },
    {
      "cell_type": "code",
      "source": [
        "re.findall(\"\\d+\", \"문자열입니다.\")"
      ],
      "metadata": {
        "colab": {
          "base_uri": "https://localhost:8080/"
        },
        "id": "cPyEOBc0yJfm",
        "outputId": "d3e1e829-fc76-4807-8e98-93d3efab1771"
      },
      "execution_count": 90,
      "outputs": [
        {
          "output_type": "execute_result",
          "data": {
            "text/plain": [
              "[]"
            ]
          },
          "metadata": {},
          "execution_count": 90
        }
      ]
    },
    {
      "cell_type": "code",
      "source": [
        "import re\n",
        "\n",
        "r = re.compile('[a-z]+')\n",
        "\n",
        "r.search('ddddd')"
      ],
      "metadata": {
        "colab": {
          "base_uri": "https://localhost:8080/"
        },
        "id": "eS_D2KnNyTF5",
        "outputId": "08b7376c-4c97-42e5-b69f-472c4bfacc3f"
      },
      "execution_count": 93,
      "outputs": [
        {
          "output_type": "execute_result",
          "data": {
            "text/plain": [
              "<re.Match object; span=(0, 5), match='ddddd'>"
            ]
          },
          "metadata": {},
          "execution_count": 93
        }
      ]
    },
    {
      "cell_type": "code",
      "source": [
        "import re\n",
        "r = re.compile(\"a.c\")\n",
        "r.search('KKK')"
      ],
      "metadata": {
        "id": "pLxRvsVCC-AM"
      },
      "execution_count": 94,
      "outputs": []
    },
    {
      "cell_type": "code",
      "source": [
        "r.search('abc')"
      ],
      "metadata": {
        "colab": {
          "base_uri": "https://localhost:8080/"
        },
        "id": "wTL5zY4BGZv-",
        "outputId": "f5e01281-3209-468e-8493-f56f0f81ae04"
      },
      "execution_count": 96,
      "outputs": [
        {
          "output_type": "execute_result",
          "data": {
            "text/plain": [
              "<re.Match object; span=(0, 3), match='abc'>"
            ]
          },
          "metadata": {},
          "execution_count": 96
        }
      ]
    },
    {
      "cell_type": "code",
      "source": [
        "r.search('ABC')"
      ],
      "metadata": {
        "id": "QbOSf-HqGdtH"
      },
      "execution_count": 97,
      "outputs": []
    },
    {
      "cell_type": "code",
      "source": [
        "import re\n",
        "r = re.compile('ab?c')\n",
        "\n",
        "r.search('abc')"
      ],
      "metadata": {
        "colab": {
          "base_uri": "https://localhost:8080/"
        },
        "id": "TNK6T5fGGkBa",
        "outputId": "b55ccb0d-8632-4571-fe1d-1bc467818073"
      },
      "execution_count": 98,
      "outputs": [
        {
          "output_type": "execute_result",
          "data": {
            "text/plain": [
              "<re.Match object; span=(0, 3), match='abc'>"
            ]
          },
          "metadata": {},
          "execution_count": 98
        }
      ]
    },
    {
      "cell_type": "code",
      "source": [
        "import re\n",
        "\n",
        "r = re.compile('ab?c')\n",
        "\n",
        "r.search('abc')"
      ],
      "metadata": {
        "colab": {
          "base_uri": "https://localhost:8080/"
        },
        "id": "kTC8jXxtHLLh",
        "outputId": "9522e9e7-5eaa-4603-8cab-48e5b30744fe"
      },
      "execution_count": 102,
      "outputs": [
        {
          "output_type": "execute_result",
          "data": {
            "text/plain": [
              "<re.Match object; span=(0, 3), match='abc'>"
            ]
          },
          "metadata": {},
          "execution_count": 102
        }
      ]
    },
    {
      "cell_type": "code",
      "source": [
        "r.search('abbc')"
      ],
      "metadata": {
        "id": "PP6MtZe3ICBq"
      },
      "execution_count": 103,
      "outputs": []
    },
    {
      "cell_type": "code",
      "source": [
        "import re\n",
        "\n",
        "r = re.compile('ab?c')\n",
        "\n",
        "r.search('acc')"
      ],
      "metadata": {
        "colab": {
          "base_uri": "https://localhost:8080/"
        },
        "id": "mHNXVExWIGin",
        "outputId": "29a3db0e-a1e3-4dcb-e66d-d485c36643af"
      },
      "execution_count": 104,
      "outputs": [
        {
          "output_type": "execute_result",
          "data": {
            "text/plain": [
              "<re.Match object; span=(0, 2), match='ac'>"
            ]
          },
          "metadata": {},
          "execution_count": 104
        }
      ]
    },
    {
      "cell_type": "code",
      "source": [
        "import re\n",
        "\n",
        "r = re.compile('ab*c')\n",
        "\n",
        "r.search('abbbbbbbbbbbbbbbbbbbbbbbbbc')"
      ],
      "metadata": {
        "colab": {
          "base_uri": "https://localhost:8080/"
        },
        "id": "5bOyWqhYI6C-",
        "outputId": "8a44de88-1918-4fa6-9a23-98d82ac88979"
      },
      "execution_count": 105,
      "outputs": [
        {
          "output_type": "execute_result",
          "data": {
            "text/plain": [
              "<re.Match object; span=(0, 27), match='abbbbbbbbbbbbbbbbbbbbbbbbbc'>"
            ]
          },
          "metadata": {},
          "execution_count": 105
        }
      ]
    },
    {
      "cell_type": "code",
      "source": [
        "r = re.compile('ab+c')\n",
        "\n",
        "r.search('ac')"
      ],
      "metadata": {
        "id": "ymettISYJQur"
      },
      "execution_count": 106,
      "outputs": []
    },
    {
      "cell_type": "code",
      "source": [
        "r.search('abbbbbbbbbbbccccccccccc')"
      ],
      "metadata": {
        "colab": {
          "base_uri": "https://localhost:8080/"
        },
        "id": "VXlX5LhmJoEv",
        "outputId": "4a266b3e-08d9-4b74-884b-45be764abc9a"
      },
      "execution_count": 107,
      "outputs": [
        {
          "output_type": "execute_result",
          "data": {
            "text/plain": [
              "<re.Match object; span=(0, 13), match='abbbbbbbbbbbc'>"
            ]
          },
          "metadata": {},
          "execution_count": 107
        }
      ]
    },
    {
      "cell_type": "code",
      "source": [
        "r = re.compile('^a')\n",
        "\n",
        "r.search('bca')"
      ],
      "metadata": {
        "id": "QxW_wnolJrtn"
      },
      "execution_count": 108,
      "outputs": []
    },
    {
      "cell_type": "code",
      "source": [
        "r.search('abc')"
      ],
      "metadata": {
        "colab": {
          "base_uri": "https://localhost:8080/"
        },
        "id": "SPB50p87J_e8",
        "outputId": "4281b2d7-c454-4959-8d3d-d8e7f88baf5d"
      },
      "execution_count": 109,
      "outputs": [
        {
          "output_type": "execute_result",
          "data": {
            "text/plain": [
              "<re.Match object; span=(0, 1), match='a'>"
            ]
          },
          "metadata": {},
          "execution_count": 109
        }
      ]
    },
    {
      "cell_type": "code",
      "source": [
        "r.search('abc abc')"
      ],
      "metadata": {
        "colab": {
          "base_uri": "https://localhost:8080/"
        },
        "id": "npT7KIURKBWO",
        "outputId": "2a236acb-ebe1-442e-8dfd-c510f9852da9"
      },
      "execution_count": 110,
      "outputs": [
        {
          "output_type": "execute_result",
          "data": {
            "text/plain": [
              "<re.Match object; span=(0, 1), match='a'>"
            ]
          },
          "metadata": {},
          "execution_count": 110
        }
      ]
    },
    {
      "cell_type": "code",
      "source": [
        "import re\n",
        "\n",
        "r = re.compile('ab*c')\n",
        "\n",
        "a = 'abbc abbbc'.split()\n",
        "\n",
        "b = [r.search(w) for w in a]\n",
        "print(b)\n",
        "#r.search('abbc abbbbc'.split)"
      ],
      "metadata": {
        "colab": {
          "base_uri": "https://localhost:8080/"
        },
        "id": "8AuqnpF0KDu6",
        "outputId": "fe7c41f2-0523-48ca-af03-c7e0659552d3"
      },
      "execution_count": 116,
      "outputs": [
        {
          "output_type": "stream",
          "name": "stdout",
          "text": [
            "[<re.Match object; span=(0, 4), match='abbc'>, <re.Match object; span=(0, 5), match='abbbc'>]\n"
          ]
        }
      ]
    },
    {
      "cell_type": "code",
      "source": [],
      "metadata": {
        "id": "Gi_u_xykLALG"
      },
      "execution_count": null,
      "outputs": []
    }
  ]
}